{
 "cells": [
  {
   "cell_type": "markdown",
   "metadata": {},
   "source": [
    "# Assignment 1 : Question 1"
   ]
  },
  {
   "cell_type": "markdown",
   "metadata": {},
   "source": [
    "Simple TensorFlow exercises"
   ]
  },
  {
   "cell_type": "code",
   "execution_count": 1,
   "metadata": {
    "collapsed": true
   },
   "outputs": [],
   "source": [
    "import tensorflow as tf"
   ]
  },
  {
   "cell_type": "markdown",
   "metadata": {},
   "source": [
    "Question 1a: Create two random 0-d tensors x and y of any distribution.\n",
    "Create a TensorFlow object that returns x + y if x > y, and x - y otherwise."
   ]
  },
  {
   "cell_type": "code",
   "execution_count": 2,
   "metadata": {
    "collapsed": true
   },
   "outputs": [],
   "source": [
    "x=tf.random_uniform([],maxval=10,dtype=tf.int32)\n",
    "y=tf.random_uniform([],maxval=10,dtype=tf.int32)"
   ]
  },
  {
   "cell_type": "code",
   "execution_count": 3,
   "metadata": {
    "collapsed": true
   },
   "outputs": [],
   "source": [
    "ans=tf.cond(x>y,lambda  : tf.add(x,y),lambda : tf.subtract(x,y))"
   ]
  },
  {
   "cell_type": "code",
   "execution_count": 4,
   "metadata": {},
   "outputs": [
    {
     "name": "stdout",
     "output_type": "stream",
     "text": [
      "[8, 0]\n",
      "8\n"
     ]
    }
   ],
   "source": [
    "sess=tf.Session()\n",
    "print (sess.run([x,y]))\n",
    "print (sess.run(ans))\n"
   ]
  },
  {
   "cell_type": "code",
   "execution_count": 5,
   "metadata": {
    "collapsed": true
   },
   "outputs": [],
   "source": [
    "sess.close()"
   ]
  },
  {
   "cell_type": "markdown",
   "metadata": {},
   "source": [
    " Question 1b: Create two 0-d tensors x and y randomly selected from the range [-1, 1).\n",
    "Return x + y if x < y, x - y if x > y, 0 otherwise."
   ]
  },
  {
   "cell_type": "code",
   "execution_count": 6,
   "metadata": {
    "collapsed": true
   },
   "outputs": [],
   "source": [
    "x=tf.random_uniform([],minval=-1,maxval=1)\n",
    "y=tf.random_uniform([],minval=-1,maxval=1)"
   ]
  },
  {
   "cell_type": "code",
   "execution_count": 7,
   "metadata": {
    "collapsed": true
   },
   "outputs": [],
   "source": [
    "ans=tf.case({ tf.less(x,y) : lambda : tf.add(x,y), tf.greater(x,y) :lambda : tf.subtract(x,y)},\n",
    "            default=lambda :tf.constant(0.0),exclusive=True)"
   ]
  },
  {
   "cell_type": "code",
   "execution_count": 8,
   "metadata": {},
   "outputs": [
    {
     "name": "stdout",
     "output_type": "stream",
     "text": [
      "[0.92329192, -0.59817386]\n",
      "0.570207\n"
     ]
    }
   ],
   "source": [
    "sess=tf.Session()\n",
    "print (sess.run([x,y]))\n",
    "print (sess.run(ans))"
   ]
  },
  {
   "cell_type": "markdown",
   "metadata": {},
   "source": [
    "<b>Question 1c:</b> Create the tensor x of the value [[0, -2, -1], [0, 1, 2]] \n",
    "and y as a tensor of zeros with the same shape as x.\n",
    " Return a boolean tensor that yields Trues if x equals y element-wise.\n"
   ]
  },
  {
   "cell_type": "code",
   "execution_count": 9,
   "metadata": {
    "collapsed": true
   },
   "outputs": [],
   "source": [
    "x = tf.constant([[0, -2, -1], [0, 1, 2]])\n",
    "y = tf.zeros_like(x)\n",
    "out = tf.equal(x, y)"
   ]
  },
  {
   "cell_type": "code",
   "execution_count": 10,
   "metadata": {},
   "outputs": [
    {
     "name": "stdout",
     "output_type": "stream",
     "text": [
      "[array([[ 0, -2, -1],\n",
      "       [ 0,  1,  2]], dtype=int32), array([[0, 0, 0],\n",
      "       [0, 0, 0]], dtype=int32)]\n",
      "[[ True False False]\n",
      " [ True False False]]\n"
     ]
    }
   ],
   "source": [
    "sess=tf.Session()\n",
    "print (sess.run([x,y]))\n",
    "print (sess.run(out))"
   ]
  },
  {
   "cell_type": "markdown",
   "metadata": {},
   "source": [
    "<b>Question 1d:</b> Create the tensor x of value \n",
    "[29.05088806,  27.61298943,  31.19073486,  29.35532951,\n",
    "  30.97266006,  26.67541885,  38.08450317,  20.74983215,\n",
    "  34.94445419,  34.45999146,  29.06485367,  36.01657104,\n",
    "  27.88236427,  20.56035233,  30.20379066,  29.51215172,\n",
    "  33.71149445,  28.59134293,  36.05556488,  28.66994858].\n",
    " Get the indices of elements in x whose values are greater than 30."
   ]
  },
  {
   "cell_type": "code",
   "execution_count": 11,
   "metadata": {
    "collapsed": true
   },
   "outputs": [],
   "source": [
    "x=tf.constant([29.05088806, 27.61298943, 31.19073486, 29.35532951, 30.97266006, 26.67541885, 38.08450317, 20.74983215, 34.94445419, 34.45999146, 29.06485367, 36.01657104, 27.88236427, 20.56035233, 30.20379066, 29.51215172, 33.71149445, 28.59134293, 36.05556488, 28.66994858])\n",
    "ans=tf.gather(x,tf.where(x>30))\n"
   ]
  },
  {
   "cell_type": "code",
   "execution_count": 12,
   "metadata": {},
   "outputs": [
    {
     "name": "stdout",
     "output_type": "stream",
     "text": [
      "[[ 31.19073486]\n",
      " [ 30.97266006]\n",
      " [ 38.08450317]\n",
      " [ 34.94445419]\n",
      " [ 34.45999146]\n",
      " [ 36.01657104]\n",
      " [ 30.20379066]\n",
      " [ 33.71149445]\n",
      " [ 36.05556488]]\n"
     ]
    }
   ],
   "source": [
    "sess=tf.Session()\n",
    "print(sess.run(ans))"
   ]
  },
  {
   "cell_type": "markdown",
   "metadata": {},
   "source": [
    "<b>Question 1e:</b> Create a diagnoal 2-d tensor of size 6 x 6 with the diagonal values of 1,\n",
    " 2, ..., 6"
   ]
  },
  {
   "cell_type": "code",
   "execution_count": 13,
   "metadata": {
    "collapsed": true
   },
   "outputs": [],
   "source": [
    "ans=tf.diag(tf.range(1,7))"
   ]
  },
  {
   "cell_type": "code",
   "execution_count": 14,
   "metadata": {},
   "outputs": [
    {
     "name": "stdout",
     "output_type": "stream",
     "text": [
      "[[1 0 0 0 0 0]\n",
      " [0 2 0 0 0 0]\n",
      " [0 0 3 0 0 0]\n",
      " [0 0 0 4 0 0]\n",
      " [0 0 0 0 5 0]\n",
      " [0 0 0 0 0 6]]\n"
     ]
    }
   ],
   "source": [
    "sess=tf.Session()\n",
    "print(sess.run(ans))"
   ]
  },
  {
   "cell_type": "markdown",
   "metadata": {},
   "source": [
    "<b>Question 1f:</b> Create a random 2-d tensor of size 10 x 10 from any distribution.\n",
    "Calculate its determinant."
   ]
  },
  {
   "cell_type": "code",
   "execution_count": 15,
   "metadata": {
    "collapsed": true
   },
   "outputs": [],
   "source": [
    "x=tf.random_uniform([10,10],minval=1,maxval=5)\n",
    "ans=tf.matrix_determinant(x)"
   ]
  },
  {
   "cell_type": "code",
   "execution_count": 16,
   "metadata": {},
   "outputs": [
    {
     "name": "stdout",
     "output_type": "stream",
     "text": [
      "[array([[ 4.73287964,  4.56933022,  4.02512741,  3.544662  ,  4.47268724,\n",
      "         1.46814919,  4.28091526,  2.78769016,  4.01074266,  4.38095474],\n",
      "       [ 3.74490213,  1.93239594,  1.88412905,  4.58691645,  4.25411081,\n",
      "         2.74320364,  3.39694929,  3.33216   ,  2.44423151,  4.79859114],\n",
      "       [ 4.07622147,  2.12457418,  4.84872007,  2.64596748,  1.41012955,\n",
      "         2.34250164,  3.84238386,  2.62155581,  3.24905729,  3.30154943],\n",
      "       [ 3.78132153,  3.27205467,  3.45041418,  4.9448576 ,  4.82873106,\n",
      "         4.12736177,  3.99810076,  3.97567797,  4.10079527,  2.96157694],\n",
      "       [ 2.84737062,  4.31518412,  1.42154503,  4.87606955,  3.89097166,\n",
      "         3.56594419,  4.29971886,  3.06715536,  3.55072069,  3.75567293],\n",
      "       [ 4.75471783,  1.84883547,  1.85778332,  4.82161427,  3.33157635,\n",
      "         1.65908098,  4.01756525,  3.35624123,  1.90919828,  4.35374165],\n",
      "       [ 4.7252779 ,  1.74656534,  2.3051486 ,  4.4815321 ,  1.37404728,\n",
      "         1.72879791,  2.23088503,  2.23493719,  3.87795353,  1.30884123],\n",
      "       [ 3.50770903,  1.62126923,  4.54682636,  2.00873327,  4.60512733,\n",
      "         4.8740468 ,  2.68345547,  3.87566853,  2.22055769,  1.63225603],\n",
      "       [ 3.9271307 ,  1.97331476,  4.41125488,  3.0288806 ,  3.40375805,\n",
      "         1.33099222,  3.54523182,  1.1339879 ,  4.04337978,  1.14146471],\n",
      "       [ 1.47333193,  3.29585123,  1.99291134,  4.88067484,  3.94536924,\n",
      "         3.41468048,  3.14187098,  3.99506807,  2.33445215,  3.21491575]], dtype=float32), -8293.5488]\n"
     ]
    }
   ],
   "source": [
    "sess=tf.Session()\n",
    "\n",
    "print(sess.run([x,ans]))"
   ]
  },
  {
   "cell_type": "markdown",
   "metadata": {},
   "source": [
    "<b>Question 1g:</b> Create tensor x with value [5, 2, 3, 5, 10, 6, 2, 3, 4, 2, 1, 1, 0, 9].\n",
    "Return the unique elements in x"
   ]
  },
  {
   "cell_type": "code",
   "execution_count": 17,
   "metadata": {
    "collapsed": true
   },
   "outputs": [],
   "source": [
    "x=tf.constant([5, 2, 3, 5, 10, 6, 2, 3, 4, 2, 1, 1, 0, 9])\n",
    "num,index=tf.unique(x) #we get an array contatining unique elements and indexes of the elements in the output array"
   ]
  },
  {
   "cell_type": "code",
   "execution_count": 18,
   "metadata": {},
   "outputs": [
    {
     "name": "stdout",
     "output_type": "stream",
     "text": [
      "[array([ 5,  2,  3, 10,  6,  4,  1,  0,  9], dtype=int32), array([0, 1, 2, 0, 3, 4, 1, 2, 5, 1, 6, 6, 7, 8], dtype=int32)]\n"
     ]
    }
   ],
   "source": [
    "sess=tf.Session()\n",
    "print(sess.run([num,index])) "
   ]
  },
  {
   "cell_type": "markdown",
   "metadata": {},
   "source": [
    "<b>Question 1h:</b> Create two tensors x and y of shape 300 from any normal distribution,\n",
    "as long as they are from the same distribution.\n",
    " Use tf.cond() to return:\n",
    " - The mean squared error of (x - y) if the average of all elements in (x - y)\n",
    "   is negative, or\n",
    " - The sum of absolute value of all elements in the tensor (x - y) otherwise."
   ]
  },
  {
   "cell_type": "code",
   "execution_count": 19,
   "metadata": {
    "collapsed": true
   },
   "outputs": [],
   "source": [
    "x=tf.random_uniform([300],maxval=5)\n",
    "y=tf.random_uniform([300],maxval=5)"
   ]
  },
  {
   "cell_type": "code",
   "execution_count": 20,
   "metadata": {
    "collapsed": true
   },
   "outputs": [],
   "source": [
    "ans = tf.cond(tf.reduce_mean(x-y)<0,lambda : tf.reduce_mean(tf.square(x-y)),lambda : tf.abs(x-y))"
   ]
  },
  {
   "cell_type": "code",
   "execution_count": 21,
   "metadata": {},
   "outputs": [
    {
     "data": {
      "text/plain": [
       "4.8995214"
      ]
     },
     "execution_count": 21,
     "metadata": {},
     "output_type": "execute_result"
    }
   ],
   "source": [
    "sess=tf.Session()\n",
    "sess.run(ans)"
   ]
  },
  {
   "cell_type": "code",
   "execution_count": null,
   "metadata": {
    "collapsed": true
   },
   "outputs": [],
   "source": []
  }
 ],
 "metadata": {
  "kernelspec": {
   "display_name": "Python 3",
   "language": "python",
   "name": "python3"
  },
  "language_info": {
   "codemirror_mode": {
    "name": "ipython",
    "version": 3
   },
   "file_extension": ".py",
   "mimetype": "text/x-python",
   "name": "python",
   "nbconvert_exporter": "python",
   "pygments_lexer": "ipython3",
   "version": "3.6.1"
  }
 },
 "nbformat": 4,
 "nbformat_minor": 2
}
